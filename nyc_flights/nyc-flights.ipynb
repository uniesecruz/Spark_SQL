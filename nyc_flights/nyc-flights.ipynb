{
 "cells": [
  {
   "cell_type": "code",
   "execution_count": 1,
   "metadata": {},
   "outputs": [],
   "source": [
    "# Imports\n",
    "import pyspark\n",
    "from pyspark import SparkContext\n",
    "from pyspark.sql import SparkSession\n"
   ]
  },
  {
   "cell_type": "code",
   "execution_count": 2,
   "metadata": {},
   "outputs": [],
   "source": [
    "# Criando o Spark Context\n",
    "sc = SparkContext(appName = \"ny_flights\")"
   ]
  },
  {
   "cell_type": "code",
   "execution_count": 3,
   "metadata": {},
   "outputs": [],
   "source": [
    "# Cria a sessão\n",
    "spark = SparkSession.builder.getOrCreate()"
   ]
  },
  {
   "cell_type": "code",
   "execution_count": 4,
   "metadata": {},
   "outputs": [
    {
     "data": {
      "text/html": [
       "\n",
       "            <div>\n",
       "                <p><b>SparkSession - in-memory</b></p>\n",
       "                \n",
       "        <div>\n",
       "            <p><b>SparkContext</b></p>\n",
       "\n",
       "            <p><a href=\"http://DESKTOP-H24E0EB:4040\">Spark UI</a></p>\n",
       "\n",
       "            <dl>\n",
       "              <dt>Version</dt>\n",
       "                <dd><code>v3.3.0</code></dd>\n",
       "              <dt>Master</dt>\n",
       "                <dd><code>local[*]</code></dd>\n",
       "              <dt>AppName</dt>\n",
       "                <dd><code>ny_flights</code></dd>\n",
       "            </dl>\n",
       "        </div>\n",
       "        \n",
       "            </div>\n",
       "        "
      ],
      "text/plain": [
       "<pyspark.sql.session.SparkSession at 0x28ece846070>"
      ]
     },
     "execution_count": 4,
     "metadata": {},
     "output_type": "execute_result"
    }
   ],
   "source": [
    "spark"
   ]
  },
  {
   "cell_type": "code",
   "execution_count": 5,
   "metadata": {},
   "outputs": [],
   "source": [
    "# Nome do arquivo\n",
    "arquivo = 'D:/Programacao_SQL/nyc-flights.csv'"
   ]
  },
  {
   "cell_type": "code",
   "execution_count": 6,
   "metadata": {},
   "outputs": [],
   "source": [
    "# Carrega como dataframe do Spark\n",
    "# Não usaremos Pandas pois não vamos fazer análise exploratória de dados\n",
    "df = spark.read.csv(arquivo, header = True)"
   ]
  },
  {
   "cell_type": "code",
   "execution_count": 7,
   "metadata": {},
   "outputs": [
    {
     "data": {
      "text/plain": [
       "pyspark.sql.dataframe.DataFrame"
      ]
     },
     "execution_count": 7,
     "metadata": {},
     "output_type": "execute_result"
    }
   ],
   "source": [
    "type(df)"
   ]
  },
  {
   "cell_type": "code",
   "execution_count": 8,
   "metadata": {},
   "outputs": [
    {
     "name": "stdout",
     "output_type": "stream",
     "text": [
      "+----+-----+---+--------+---------+--------+---------+-------+-------+------+------+----+--------+--------+----+------+\n",
      "|year|month|day|dep_time|dep_delay|arr_time|arr_delay|carrier|tailnum|flight|origin|dest|air_time|distance|hour|minute|\n",
      "+----+-----+---+--------+---------+--------+---------+-------+-------+------+------+----+--------+--------+----+------+\n",
      "|2013|    6| 30|     940|       15|    1216|       -4|     VX| N626VA|   407|   JFK| LAX|     313|    2475|   9|    40|\n",
      "|2013|    5|  7|    1657|       -3|    2104|       10|     DL| N3760C|   329|   JFK| SJU|     216|    1598|  16|    57|\n",
      "|2013|   12|  8|     859|       -1|    1238|       11|     DL| N712TW|   422|   JFK| LAX|     376|    2475|   8|    59|\n",
      "|2013|    5| 14|    1841|       -4|    2122|      -34|     DL| N914DL|  2391|   JFK| TPA|     135|    1005|  18|    41|\n",
      "|2013|    7| 21|    1102|       -3|    1230|       -8|     9E| N823AY|  3652|   LGA| ORF|      50|     296|  11|     2|\n",
      "+----+-----+---+--------+---------+--------+---------+-------+-------+------+------+----+--------+--------+----+------+\n",
      "only showing top 5 rows\n",
      "\n"
     ]
    }
   ],
   "source": [
    "df.show(5)"
   ]
  },
  {
   "cell_type": "code",
   "execution_count": 9,
   "metadata": {},
   "outputs": [],
   "source": [
    "# Cria tabela temporária\n",
    "df.createOrReplaceTempView(\"ny_flights\")"
   ]
  },
  {
   "cell_type": "markdown",
   "metadata": {},
   "source": [
    "Visualizando os 5 primeiros registros"
   ]
  },
  {
   "cell_type": "code",
   "execution_count": 10,
   "metadata": {},
   "outputs": [
    {
     "name": "stdout",
     "output_type": "stream",
     "text": [
      "+----+-----+---+--------+---------+--------+---------+-------+-------+------+------+----+--------+--------+----+------+\n",
      "|year|month|day|dep_time|dep_delay|arr_time|arr_delay|carrier|tailnum|flight|origin|dest|air_time|distance|hour|minute|\n",
      "+----+-----+---+--------+---------+--------+---------+-------+-------+------+------+----+--------+--------+----+------+\n",
      "|2013|    6| 30|     940|       15|    1216|       -4|     VX| N626VA|   407|   JFK| LAX|     313|    2475|   9|    40|\n",
      "|2013|    5|  7|    1657|       -3|    2104|       10|     DL| N3760C|   329|   JFK| SJU|     216|    1598|  16|    57|\n",
      "|2013|   12|  8|     859|       -1|    1238|       11|     DL| N712TW|   422|   JFK| LAX|     376|    2475|   8|    59|\n",
      "|2013|    5| 14|    1841|       -4|    2122|      -34|     DL| N914DL|  2391|   JFK| TPA|     135|    1005|  18|    41|\n",
      "|2013|    7| 21|    1102|       -3|    1230|       -8|     9E| N823AY|  3652|   LGA| ORF|      50|     296|  11|     2|\n",
      "+----+-----+---+--------+---------+--------+---------+-------+-------+------+------+----+--------+--------+----+------+\n",
      "\n"
     ]
    }
   ],
   "source": [
    "\n",
    "spark.sql(\"SELECT * FROM ny_flights LIMIT 5\").show()"
   ]
  },
  {
   "cell_type": "markdown",
   "metadata": {},
   "source": [
    "Descreva todos os tipos de dados da tabela "
   ]
  },
  {
   "cell_type": "code",
   "execution_count": 11,
   "metadata": {},
   "outputs": [
    {
     "name": "stdout",
     "output_type": "stream",
     "text": [
      "+---------+---------+-------+\n",
      "| col_name|data_type|comment|\n",
      "+---------+---------+-------+\n",
      "|     year|   string|   null|\n",
      "|    month|   string|   null|\n",
      "|      day|   string|   null|\n",
      "| dep_time|   string|   null|\n",
      "|dep_delay|   string|   null|\n",
      "| arr_time|   string|   null|\n",
      "|arr_delay|   string|   null|\n",
      "|  carrier|   string|   null|\n",
      "|  tailnum|   string|   null|\n",
      "|   flight|   string|   null|\n",
      "|   origin|   string|   null|\n",
      "|     dest|   string|   null|\n",
      "| air_time|   string|   null|\n",
      "| distance|   string|   null|\n",
      "|     hour|   string|   null|\n",
      "|   minute|   string|   null|\n",
      "+---------+---------+-------+\n",
      "\n"
     ]
    }
   ],
   "source": [
    "\n",
    "spark.sql(\"DESCRIBE ny_flights\").show()"
   ]
  },
  {
   "cell_type": "markdown",
   "metadata": {},
   "source": [
    "Realizar a contagem de forma descendente de todas as viagens realizadas por destino "
   ]
  },
  {
   "cell_type": "code",
   "execution_count": 12,
   "metadata": {},
   "outputs": [
    {
     "name": "stdout",
     "output_type": "stream",
     "text": [
      "+----+--------+\n",
      "|dest|count(1)|\n",
      "+----+--------+\n",
      "| ATL|    1653|\n",
      "| ORD|    1588|\n",
      "| LAX|    1583|\n",
      "| BOS|    1470|\n",
      "| CLT|    1383|\n",
      "| MCO|    1376|\n",
      "| SFO|    1345|\n",
      "| MIA|    1220|\n",
      "| FLL|    1183|\n",
      "| DCA|     963|\n",
      "| DTW|     889|\n",
      "| DFW|     851|\n",
      "| RDU|     801|\n",
      "| TPA|     746|\n",
      "| DEN|     736|\n",
      "| IAH|     729|\n",
      "| MSP|     712|\n",
      "| PBI|     620|\n",
      "| SJU|     587|\n",
      "| LAS|     584|\n",
      "+----+--------+\n",
      "only showing top 20 rows\n",
      "\n"
     ]
    }
   ],
   "source": [
    "\n",
    "spark.sql(\"\"\" SELECT dest , count(*)\n",
    "          \n",
    "          FROM ny_flights\n",
    "          GROUP BY dest\n",
    "          ORDER BY count(*) desc\"\"\").show()"
   ]
  },
  {
   "cell_type": "code",
   "execution_count": 36,
   "metadata": {},
   "outputs": [],
   "source": [
    "import matplotlib.pyplot as plt"
   ]
  },
  {
   "cell_type": "code",
   "execution_count": 33,
   "metadata": {},
   "outputs": [],
   "source": [
    "df1=spark.sql(\"\"\" SELECT dest , count(*) AS Total_Voos\n",
    "          \n",
    "          FROM ny_flights\n",
    "          GROUP BY dest\n",
    "          ORDER BY count(*) desc\"\"\").toPandas()"
   ]
  },
  {
   "cell_type": "code",
   "execution_count": 37,
   "metadata": {},
   "outputs": [
    {
     "data": {
      "text/html": [
       "<div>\n",
       "<style scoped>\n",
       "    .dataframe tbody tr th:only-of-type {\n",
       "        vertical-align: middle;\n",
       "    }\n",
       "\n",
       "    .dataframe tbody tr th {\n",
       "        vertical-align: top;\n",
       "    }\n",
       "\n",
       "    .dataframe thead th {\n",
       "        text-align: right;\n",
       "    }\n",
       "</style>\n",
       "<table border=\"1\" class=\"dataframe\">\n",
       "  <thead>\n",
       "    <tr style=\"text-align: right;\">\n",
       "      <th></th>\n",
       "      <th>dest</th>\n",
       "      <th>Total_Voos</th>\n",
       "    </tr>\n",
       "  </thead>\n",
       "  <tbody>\n",
       "    <tr>\n",
       "      <th>0</th>\n",
       "      <td>ATL</td>\n",
       "      <td>1653</td>\n",
       "    </tr>\n",
       "    <tr>\n",
       "      <th>1</th>\n",
       "      <td>ORD</td>\n",
       "      <td>1588</td>\n",
       "    </tr>\n",
       "    <tr>\n",
       "      <th>2</th>\n",
       "      <td>LAX</td>\n",
       "      <td>1583</td>\n",
       "    </tr>\n",
       "    <tr>\n",
       "      <th>3</th>\n",
       "      <td>BOS</td>\n",
       "      <td>1470</td>\n",
       "    </tr>\n",
       "    <tr>\n",
       "      <th>4</th>\n",
       "      <td>CLT</td>\n",
       "      <td>1383</td>\n",
       "    </tr>\n",
       "    <tr>\n",
       "      <th>...</th>\n",
       "      <td>...</td>\n",
       "      <td>...</td>\n",
       "    </tr>\n",
       "    <tr>\n",
       "      <th>97</th>\n",
       "      <td>MTJ</td>\n",
       "      <td>2</td>\n",
       "    </tr>\n",
       "    <tr>\n",
       "      <th>98</th>\n",
       "      <td>BZN</td>\n",
       "      <td>2</td>\n",
       "    </tr>\n",
       "    <tr>\n",
       "      <th>99</th>\n",
       "      <td>CHO</td>\n",
       "      <td>1</td>\n",
       "    </tr>\n",
       "    <tr>\n",
       "      <th>100</th>\n",
       "      <td>EYW</td>\n",
       "      <td>1</td>\n",
       "    </tr>\n",
       "    <tr>\n",
       "      <th>101</th>\n",
       "      <td>ANC</td>\n",
       "      <td>1</td>\n",
       "    </tr>\n",
       "  </tbody>\n",
       "</table>\n",
       "<p>102 rows × 2 columns</p>\n",
       "</div>"
      ],
      "text/plain": [
       "    dest  Total_Voos\n",
       "0    ATL        1653\n",
       "1    ORD        1588\n",
       "2    LAX        1583\n",
       "3    BOS        1470\n",
       "4    CLT        1383\n",
       "..   ...         ...\n",
       "97   MTJ           2\n",
       "98   BZN           2\n",
       "99   CHO           1\n",
       "100  EYW           1\n",
       "101  ANC           1\n",
       "\n",
       "[102 rows x 2 columns]"
      ]
     },
     "execution_count": 37,
     "metadata": {},
     "output_type": "execute_result"
    }
   ],
   "source": [
    "df1"
   ]
  },
  {
   "cell_type": "code",
   "execution_count": 40,
   "metadata": {},
   "outputs": [
    {
     "data": {
      "text/plain": [
       "<AxesSubplot:xlabel='dest'>"
      ]
     },
     "execution_count": 40,
     "metadata": {},
     "output_type": "execute_result"
    },
    {
     "data": {
      "image/png": "[encoded data removed]",
      "text/plain": [
       "<Figure size 640x480 with 1 Axes>"
      ]
     },
     "metadata": {},
     "output_type": "display_data"
    }
   ],
   "source": [
    "df1.plot(kind='bar',x='dest',y='Total_Voos')"
   ]
  },
  {
   "cell_type": "markdown",
   "metadata": {},
   "source": [
    "Realiza consulta das inforções relacionada as viagens que possuem distancias maiores que 1000 no destino JFK para as \n",
    "repectivas datas "
   ]
  },
  {
   "cell_type": "code",
   "execution_count": 52,
   "metadata": {},
   "outputs": [
    {
     "name": "stdout",
     "output_type": "stream",
     "text": [
      "+----+-----+---+--------+---------+--------+---------+-------+-------+------+------+----+--------+--------+----+------+\n",
      "|year|month|day|dep_time|dep_delay|arr_time|arr_delay|carrier|tailnum|flight|origin|dest|air_time|distance|hour|minute|\n",
      "+----+-----+---+--------+---------+--------+---------+-------+-------+------+------+----+--------+--------+----+------+\n",
      "|2013|   11| 10|    1626|       -4|    1946|        6|     AA| N338AA|   181|   JFK| LAX|     338|    2475|  16|    26|\n",
      "|2013|   11| 10|    1155|       -5|    1459|      -21|     DL| N721TW|   423|   JFK| LAX|     336|    2475|  11|    55|\n",
      "|2013|   11| 10|     655|       -5|    1004|      -11|     VX| N628VA|   399|   JFK| LAX|     345|    2475|   6|    55|\n",
      "|2013|   11| 10|    1528|       -2|    1846|      -15|     DL| N189DN|   417|   JFK| LAX|     332|    2475|  15|    28|\n",
      "|2013|   11| 10|    1756|       16|    2130|       12|     B6| N804JB|   135|   JFK| PHX|     296|    2153|  17|    56|\n",
      "|2013|   11| 10|    1742|        2|    2054|       19|     AA| N3FCAA|    67|   JFK| SAN|     330|    2446|  17|    42|\n",
      "|2013|   11| 10|    1552|       -5|    1922|       -5|     DL| N6710E|   467|   JFK| SLC|     279|    1990|  15|    52|\n",
      "|2013|   11| 10|     604|       -7|     853|      -19|     B6| N775JB|   601|   JFK| FLL|     150|    1069|   6|     4|\n",
      "|2013|   11| 10|    1802|       -8|    2109|      -20|     B6| N629JB|  1013|   JFK| LGB|     332|    2465|  18|     2|\n",
      "|2013|   11| 10|    1000|        0|    1314|      -19|     DL|  N704X|   469|   JFK| SFO|     350|    2586|  10|     0|\n",
      "|2013|   11| 10|    1029|       -1|    1353|      -17|     US| N550UW|   679|   JFK| PHX|     295|    2153|  10|    29|\n",
      "|2013|   11| 10|    1945|       25|    2243|       41|     9E| N917XJ|  2925|   JFK| MSY|     167|    1182|  19|    45|\n",
      "|2013|   11| 10|     828|       -2|    1202|       10|     UA| N589UA|   443|   JFK| LAX|     343|    2475|   8|    28|\n",
      "|2013|   11| 10|    1826|       -4|    2200|       -5|     B6| N554JB|   669|   JFK| SJC|     347|    2569|  18|    26|\n",
      "|2013|   11| 10|     957|       -3|    1625|       30|     HA| N393HA|    51|   JFK| HNL|     667|    4983|   9|    57|\n",
      "|2013|   11| 10|    1645|        0|    2021|        7|     DL| N711ZX|   477|   JFK| LAX|     333|    2475|  16|    45|\n",
      "+----+-----+---+--------+---------+--------+---------+-------+-------+------+------+----+--------+--------+----+------+\n",
      "\n"
     ]
    }
   ],
   "source": [
    "spark.sql(\"\"\" SELECT *\n",
    "              FROM (SELECT  * \n",
    "                    FROM ny_flights\n",
    "                    WHERE year = 2013 \n",
    "                    and month = 11 \n",
    "                    and day = 10 \n",
    "                    and origin =\"JFK\") AS T\n",
    "               WHERE distance > 1000\n",
    "          \"\"\").show()"
   ]
  },
  {
   "cell_type": "markdown",
   "metadata": {},
   "source": []
  },
  {
   "cell_type": "code",
   "execution_count": 53,
   "metadata": {},
   "outputs": [],
   "source": [
    "df2=spark.sql(\"\"\" SELECT CAST(DISTANCE AS INTEGER),\n",
    "              dest\n",
    "              FROM (SELECT  *\n",
    "                    FROM ny_flights\n",
    "                    WHERE year = 2013 \n",
    "                    and month = 11 \n",
    "                    and day = 10 \n",
    "                    and origin =\"JFK\") AS T\n",
    "               WHERE distance > 1000\n",
    "          \"\"\").toPandas()"
   ]
  },
  {
   "cell_type": "code",
   "execution_count": 55,
   "metadata": {},
   "outputs": [
    {
     "data": {
      "text/plain": [
       "<AxesSubplot:xlabel='dest'>"
      ]
     },
     "execution_count": 55,
     "metadata": {},
     "output_type": "execute_result"
    },
    {
     "data": {
      "image/png": "[encoded data removed]",
      "text/plain": [
       "<Figure size 640x480 with 1 Axes>"
      ]
     },
     "metadata": {},
     "output_type": "display_data"
    }
   ],
   "source": [
    "df2.plot(kind='bar',x='dest',y='DISTANCE')"
   ]
  },
  {
   "cell_type": "code",
   "execution_count": null,
   "metadata": {},
   "outputs": [
    {
     "name": "stdout",
     "output_type": "stream",
     "text": [
      "+-------+--------+\n",
      "|carrier|count(1)|\n",
      "+-------+--------+\n",
      "|     UA|     440|\n",
      "|     AA|    1388|\n",
      "|     EV|     118|\n",
      "|     B6|    4166|\n",
      "|     DL|    2070|\n",
      "|     US|     302|\n",
      "|     MQ|     717|\n",
      "|     HA|      34|\n",
      "|     VX|     348|\n",
      "|     9E|    1314|\n",
      "+-------+--------+\n",
      "\n"
     ]
    }
   ],
   "source": [
    "spark.sql(\"\"\"SELECT carrier, count(*)\n",
    "FROM ny_flights\n",
    "WHERE origin = 'JFK'\n",
    "GROUP BY carrier\"\"\").show()"
   ]
  },
  {
   "cell_type": "code",
   "execution_count": null,
   "metadata": {},
   "outputs": [
    {
     "name": "stdout",
     "output_type": "stream",
     "text": [
      "+----+--------+\n",
      "|dest|count(1)|\n",
      "+----+--------+\n",
      "| ATL|    1653|\n",
      "| ORD|    1588|\n",
      "| LAX|    1583|\n",
      "| BOS|    1470|\n",
      "| CLT|    1383|\n",
      "| MCO|    1376|\n",
      "| SFO|    1345|\n",
      "| MIA|    1220|\n",
      "| FLL|    1183|\n",
      "| DCA|     963|\n",
      "| DTW|     889|\n",
      "| DFW|     851|\n",
      "| RDU|     801|\n",
      "| TPA|     746|\n",
      "| DEN|     736|\n",
      "| IAH|     729|\n",
      "| MSP|     712|\n",
      "| PBI|     620|\n",
      "| SJU|     587|\n",
      "| LAS|     584|\n",
      "+----+--------+\n",
      "only showing top 20 rows\n",
      "\n"
     ]
    }
   ],
   "source": [
    "spark.sql(\"\"\"SELECT dest, count(*)\n",
    "FROM ny_flights\n",
    "GROUP BY dest\n",
    "ORDER BY count(*) desc\"\"\").show()"
   ]
  },
  {
   "cell_type": "code",
   "execution_count": null,
   "metadata": {},
   "outputs": [
    {
     "name": "stdout",
     "output_type": "stream",
     "text": [
      "+----+-------+----+\n",
      "|dest|carrier| num|\n",
      "+----+-------+----+\n",
      "| LAX|     VX|1583|\n",
      "| SJU|     DL| 587|\n",
      "| LAX|     DL|1583|\n",
      "| TPA|     DL| 746|\n",
      "| ORF|     9E| 125|\n",
      "| ORD|     AA|1588|\n",
      "| HOU|     WN| 221|\n",
      "| IAD|     B6| 535|\n",
      "| MIA|     AA|1220|\n",
      "| JAX|     EV| 246|\n",
      "| ROC|     B6| 229|\n",
      "| RSW|     B6| 348|\n",
      "| DAY|     EV| 120|\n",
      "| ATL|     FL|1653|\n",
      "| BTV|     B6| 252|\n",
      "| BUF|     EV| 488|\n",
      "| DCA|     EV| 963|\n",
      "| FLL|     DL|1183|\n",
      "| ORD|     UA|1588|\n",
      "| SFO|     VX|1345|\n",
      "+----+-------+----+\n",
      "only showing top 20 rows\n",
      "\n"
     ]
    }
   ],
   "source": [
    "spark.sql(\"\"\"\n",
    "          SELECT T1.dest, T1.carrier, T2.num\n",
    "          FROM ny_flights as T1,\n",
    "          (SELECT dest, count(*) as num FROM ny_flights\n",
    "          GROUP BY dest) as T2\n",
    "          WHERE T1.dest = T2.dest\"\"\").show()"
   ]
  },
  {
   "cell_type": "code",
   "execution_count": null,
   "metadata": {},
   "outputs": [],
   "source": [
    "kldjfgdkjhgld TEste para github"
   ]
  },
  {
   "cell_type": "code",
   "execution_count": null,
   "metadata": {},
   "outputs": [],
   "source": [
    "teste para github "
   ]
  }
 ],
 "metadata": {
  "interpreter": {
   "hash": "0fd33b7bf64bfd4d82d2691055af166341e01ec1e347b8fe44fa5ae78d7ebc08"
  },
  "kernelspec": {
   "display_name": "Python 3.9.12 ('base')",
   "language": "python",
   "name": "python3"
  },
  "language_info": {
   "codemirror_mode": {
    "name": "ipython",
    "version": 3
   },
   "file_extension": ".py",
   "mimetype": "text/x-python",
   "name": "python",
   "nbconvert_exporter": "python",
   "pygments_lexer": "ipython3",
   "version": "3.9.12"
  },
  "orig_nbformat": 4
 },
 "nbformat": 4,
 "nbformat_minor": 2
}
